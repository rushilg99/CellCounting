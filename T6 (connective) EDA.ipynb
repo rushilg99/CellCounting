{
 "cells": [
  {
   "cell_type": "code",
   "execution_count": 1,
   "id": "9b7f28c3",
   "metadata": {},
   "outputs": [],
   "source": [
    "import os\n",
    "\n",
    "import numpy as np\n",
    "import pandas as pd\n",
    "import matplotlib.pyplot as plt\n",
    "import pickle\n",
    "\n",
    "from skimage.color import rgb2hsv, hsv2rgb\n",
    "from skimage.exposure import equalize_hist"
   ]
  },
  {
   "cell_type": "code",
   "execution_count": 2,
   "id": "3c2c4035",
   "metadata": {},
   "outputs": [],
   "source": [
    "PATH = \"data/\""
   ]
  },
  {
   "cell_type": "code",
   "execution_count": 3,
   "id": "bdb5d6f9",
   "metadata": {},
   "outputs": [
    {
     "data": {
      "text/plain": [
       "array([3., 3., 3., ..., 3., 3., 3.])"
      ]
     },
     "execution_count": 3,
     "metadata": {},
     "output_type": "execute_result"
    }
   ],
   "source": [
    "split_meta = np.loadtxt(PATH+\"split.txt\")\n",
    "split_meta"
   ]
  },
  {
   "cell_type": "code",
   "execution_count": 4,
   "id": "15c3a8c9",
   "metadata": {},
   "outputs": [
    {
     "data": {
      "text/plain": [
       "4981"
      ]
     },
     "execution_count": 4,
     "metadata": {},
     "output_type": "execute_result"
    }
   ],
   "source": [
    "counts = pd.read_csv(PATH+\"counts.csv\")\n",
    "len(counts)"
   ]
  },
  {
   "cell_type": "code",
   "execution_count": 5,
   "id": "6b8b2f07",
   "metadata": {},
   "outputs": [
    {
     "data": {
      "text/plain": [
       "(4981, 256, 256, 3)"
      ]
     },
     "execution_count": 5,
     "metadata": {},
     "output_type": "execute_result"
    }
   ],
   "source": [
    "images = np.load(PATH+\"images.npy\")\n",
    "images.shape"
   ]
  },
  {
   "cell_type": "markdown",
   "id": "42e9d467",
   "metadata": {},
   "source": [
    "# Load training set"
   ]
  },
  {
   "cell_type": "code",
   "execution_count": 6,
   "id": "a32f0d26",
   "metadata": {},
   "outputs": [],
   "source": [
    "with open(PATH+\"train.pkl\",\"rb\") as f:\n",
    "    train_images, train_labels = pickle.load(f)"
   ]
  },
  {
   "cell_type": "markdown",
   "id": "9c4abc9e",
   "metadata": {},
   "source": [
    "# Training labels distributions"
   ]
  },
  {
   "cell_type": "markdown",
   "id": "21715900",
   "metadata": {},
   "source": [
    "Connective label distribution is positively skewed. **This may be a source of bias.** This isn't as bad a problem as some of the other labels.\n",
    "\n",
    "* Remove low count samples.\n",
    "* Loss function adjustment"
   ]
  },
  {
   "cell_type": "code",
   "execution_count": 7,
   "id": "63e9dc66",
   "metadata": {},
   "outputs": [
    {
     "data": {
      "image/png": "[encoded data removed]",
      "text/plain": [
       "<Figure size 640x480 with 1 Axes>"
      ]
     },
     "metadata": {},
     "output_type": "display_data"
    }
   ],
   "source": [
    "plt.title(\"Connective cell training count distribution\")\n",
    "plt.hist(train_labels[\"connective\"],bins=50,density=True)\n",
    "plt.show()"
   ]
  },
  {
   "cell_type": "code",
   "execution_count": null,
   "id": "ef3b26c7",
   "metadata": {},
   "outputs": [],
   "source": []
  }
 ],
 "metadata": {
  "kernelspec": {
   "display_name": "Python 3 (ipykernel)",
   "language": "python",
   "name": "python3"
  },
  "language_info": {
   "codemirror_mode": {
    "name": "ipython",
    "version": 3
   },
   "file_extension": ".py",
   "mimetype": "text/x-python",
   "name": "python",
   "nbconvert_exporter": "python",
   "pygments_lexer": "ipython3",
   "version": "3.10.6"
  }
 },
 "nbformat": 4,
 "nbformat_minor": 5
}
