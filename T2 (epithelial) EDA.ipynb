{
 "cells": [
  {
   "cell_type": "code",
   "execution_count": 1,
   "id": "562741cf",
   "metadata": {},
   "outputs": [],
   "source": [
    "import os\n",
    "\n",
    "import numpy as np\n",
    "import pandas as pd\n",
    "import matplotlib.pyplot as plt\n",
    "import pickle\n",
    "\n",
    "from skimage.color import rgb2hsv, hsv2rgb\n",
    "from skimage.exposure import equalize_hist"
   ]
  },
  {
   "cell_type": "code",
   "execution_count": 2,
   "id": "14fdd345",
   "metadata": {},
   "outputs": [],
   "source": [
    "PATH = \"data/\""
   ]
  },
  {
   "cell_type": "code",
   "execution_count": 3,
   "id": "a899b1ad",
   "metadata": {},
   "outputs": [
    {
     "data": {
      "text/plain": [
       "array([3., 3., 3., ..., 3., 3., 3.])"
      ]
     },
     "execution_count": 3,
     "metadata": {},
     "output_type": "execute_result"
    }
   ],
   "source": [
    "split_meta = np.loadtxt(PATH+\"split.txt\")\n",
    "split_meta"
   ]
  },
  {
   "cell_type": "code",
   "execution_count": 4,
   "id": "7a379bc2",
   "metadata": {},
   "outputs": [
    {
     "data": {
      "text/plain": [
       "4981"
      ]
     },
     "execution_count": 4,
     "metadata": {},
     "output_type": "execute_result"
    }
   ],
   "source": [
    "counts = pd.read_csv(PATH+\"counts.csv\")\n",
    "len(counts)"
   ]
  },
  {
   "cell_type": "code",
   "execution_count": 5,
   "id": "e81dfcff",
   "metadata": {},
   "outputs": [
    {
     "data": {
      "text/plain": [
       "(4981, 256, 256, 3)"
      ]
     },
     "execution_count": 5,
     "metadata": {},
     "output_type": "execute_result"
    }
   ],
   "source": [
    "images = np.load(PATH+\"images.npy\")\n",
    "images.shape"
   ]
  },
  {
   "cell_type": "markdown",
   "id": "3fa87f6a",
   "metadata": {},
   "source": [
    "# Load training set"
   ]
  },
  {
   "cell_type": "code",
   "execution_count": 6,
   "id": "c1a90731",
   "metadata": {},
   "outputs": [],
   "source": [
    "with open(PATH+\"train.pkl\",\"rb\") as f:\n",
    "    train_images, train_labels = pickle.load(f)"
   ]
  },
  {
   "cell_type": "markdown",
   "id": "afd7be66",
   "metadata": {},
   "source": [
    "# Training labels distributions"
   ]
  },
  {
   "cell_type": "markdown",
   "id": "ccf77e31",
   "metadata": {},
   "source": [
    "Epithelial label distribution is positively skewed, though it isn't as bad as the T1 count distribution. **This may be a source of bias.**\n",
    "\n",
    "* Loss function adjustment\n",
    "* Could remove low count samples."
   ]
  },
  {
   "cell_type": "code",
   "execution_count": 7,
   "id": "8e155f72",
   "metadata": {},
   "outputs": [
    {
     "data": {
      "image/png": "[encoded data removed]",
      "text/plain": [
       "<Figure size 640x480 with 1 Axes>"
      ]
     },
     "metadata": {},
     "output_type": "display_data"
    }
   ],
   "source": [
    "plt.title(\"Epithelial cell training count distribution\")\n",
    "plt.hist(train_labels[\"epithelial\"],bins=50,density=True)\n",
    "plt.show()"
   ]
  },
  {
   "cell_type": "code",
   "execution_count": null,
   "id": "a34aa177",
   "metadata": {},
   "outputs": [],
   "source": []
  }
 ],
 "metadata": {
  "kernelspec": {
   "display_name": "Python 3 (ipykernel)",
   "language": "python",
   "name": "python3"
  },
  "language_info": {
   "codemirror_mode": {
    "name": "ipython",
    "version": 3
   },
   "file_extension": ".py",
   "mimetype": "text/x-python",
   "name": "python",
   "nbconvert_exporter": "python",
   "pygments_lexer": "ipython3",
   "version": "3.10.6"
  }
 },
 "nbformat": 4,
 "nbformat_minor": 5
}
